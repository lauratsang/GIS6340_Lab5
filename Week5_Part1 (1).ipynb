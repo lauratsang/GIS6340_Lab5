{
  "metadata": {
    "language_info": {
      "codemirror_mode": {
        "name": "python",
        "version": 3
      },
      "file_extension": ".py",
      "mimetype": "text/x-python",
      "name": "python",
      "nbconvert_exporter": "python",
      "pygments_lexer": "ipython3",
      "version": "3.8"
    },
    "kernelspec": {
      "name": "python",
      "display_name": "Python (Pyodide)",
      "language": "python"
    }
  },
  "nbformat_minor": 4,
  "nbformat": 4,
  "cells": [
    {
      "cell_type": "code",
      "source": "# ThinkPython Exercises 9.1, 9.2 and 10.1 and 10.2\n\n# 9.1 Write a program that reads words.txt and prints only the words with more than 20\n# characters (not counting whitespace).\n\ndef characterCount():\n    fin = open(\"words.txt\")\n    for line in fin:\n        words = line.strip()\n        if len(words) > 19:\n            print(words)\n\n# I downloaded the word list from https://greenteapress.com/thinkpython2/code/words.txt\n# and used a for loop to read through the words in the file. I used line.strip to remove\n# any leading or trailing whitespaces so that it is only counting the characters in the\n# word. Then, I used an if statement to only print words that are greater than 19 characters\n# in length.\n\n# 9.2 Write a function called has_no_e that returns True if the given word doesn’t have the\n# letter “e” in it.\n\ndef has_no_e(word):\n    for letter in word:\n        if letter == 'e':\n            return False\n    return True\n\n# For this exercise, you can enter a word then the program will tell you if that word has an\n# \"e.\" If the letter e is in it, the function will return True.\n\ndef has_no_e_2():\n    fin = open(\"words.txt\")\n    word_count = 0\n    count = 0\n    for line in fin:\n        word_count = word_count + 1\n        words = line.strip()\n        if words.find(\"e\") == -1:\n            print(words)\n            count = count + 1\n    percent_of_words = (count/word_count) * 100\n    print(\"Percent:\", percent_of_words)\n\n# This exercise was trickier to figure out because I didn't think to make a count loop to \n# figure out the word percentage at first. I was planning on counting all the words using \n# a word counter on Microsoft word but then I found a solution online that used the counter\n# that I thought was smart. Once I figured out the word count part, the rest was very similar\n# to the previous exercise. The percent of words without an e is 5.32%\n\n# 10.1 Write a function called nested_sum that takes a list of lists of integers and adds up\n# the elements from all of the nested lists.\n\nt = [[1, 2], [3], [4, 5, 6]]\n\ndef nested_sum():\n    total = 0\n    for x in t:\n        total += sum(x)\n    return total\n        \n# This exercise was pretty straightforward because I just added all the elements up.\n\n# 10.2 Write a function called cumsum that takes a list of numbers and returns the cumulative\n# sum; that is, a new list where the ith element is the sum of the first i + 1 elements from the\n# original list.\n\ndef cumsum(t):\n    total = 0\n    res = []\n    for x in t:\n        total += x\n        res.append(total)\n    return res\n\n# This function was pretty straightforward once I figured out to append the total to a \n# new list.\n\n",
      "metadata": {},
      "execution_count": null,
      "outputs": []
    }
  ]
}